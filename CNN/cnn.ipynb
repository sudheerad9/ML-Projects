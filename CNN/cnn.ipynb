{
  "nbformat": 4,
  "nbformat_minor": 0,
  "metadata": {
    "colab": {
      "name": "cnn_sml.ipynb",
      "provenance": [],
      "collapsed_sections": []
    },
    "kernelspec": {
      "name": "python3",
      "display_name": "Python 3"
    },
    "language_info": {
      "name": "python"
    },
    "accelerator": "GPU"
  },
  "cells": [
    {
      "cell_type": "code",
      "metadata": {
        "id": "SMiBwJSgRHfw"
      },
      "source": [
        "import numpy as np\n",
        "from matplotlib import pyplot as plt\n",
        "import keras\n",
        "from keras.utils import to_categorical\n",
        "from scipy.io import loadmat\n",
        "from keras.models import Sequential\n",
        "from keras.layers import Dense, Conv2D, Flatten, MaxPooling2D\n"
      ],
      "execution_count": 2,
      "outputs": []
    },
    {
      "cell_type": "markdown",
      "metadata": {
        "id": "gN_TUuam5BUS"
      },
      "source": [
        "Load data from files"
      ]
    },
    {
      "cell_type": "code",
      "metadata": {
        "id": "ChC6Hg0fRlph"
      },
      "source": [
        "trX = loadmat('/content/drive/My Drive/train_32x32.mat')['X']\n",
        "trY = loadmat('/content/drive/My Drive/train_32x32.mat')['y']\n",
        "tsX = loadmat('/content/drive/My Drive/test_32x32.mat')['X']\n",
        "tsY = loadmat('/content/drive/My Drive/test_32x32.mat')['y']"
      ],
      "execution_count": 3,
      "outputs": []
    },
    {
      "cell_type": "markdown",
      "metadata": {
        "id": "umrKTqH25VO2"
      },
      "source": [
        "Convert training data and testing data to float64 format\n",
        "\n"
      ]
    },
    {
      "cell_type": "code",
      "metadata": {
        "id": "3a8yl2C2RvGO"
      },
      "source": [
        "trX = trX.astype('float64')\n",
        "tsX = tsX.astype('float64')"
      ],
      "execution_count": 4,
      "outputs": []
    },
    {
      "cell_type": "markdown",
      "metadata": {
        "id": "NyyFOu7j5jon"
      },
      "source": [
        "Normalize the testing and testing data using shape."
      ]
    },
    {
      "cell_type": "code",
      "metadata": {
        "id": "VYZ8HreyJPP2"
      },
      "source": [
        "trX = trX/255.0\n",
        "tsX = tsX/255.0"
      ],
      "execution_count": 5,
      "outputs": []
    },
    {
      "cell_type": "markdown",
      "metadata": {
        "id": "JvnJ5GhE5szi"
      },
      "source": [
        "Perform one hot encoding for training and testing labels."
      ]
    },
    {
      "cell_type": "code",
      "metadata": {
        "id": "QLMbr-dORyAP"
      },
      "source": [
        "\n",
        "trY = to_categorical(trY).astype('int64')\n",
        "tsY = to_categorical(tsY).astype('int64')"
      ],
      "execution_count": 6,
      "outputs": []
    },
    {
      "cell_type": "code",
      "metadata": {
        "colab": {
          "base_uri": "https://localhost:8080/"
        },
        "id": "r0N688hyTc1y",
        "outputId": "0d574104-694b-4087-a4ae-d7b9aa5e4b89"
      },
      "source": [
        "trX.shape"
      ],
      "execution_count": 7,
      "outputs": [
        {
          "output_type": "execute_result",
          "data": {
            "text/plain": [
              "(73257, 32, 32, 3)"
            ]
          },
          "metadata": {
            "tags": []
          },
          "execution_count": 7
        }
      ]
    },
    {
      "cell_type": "code",
      "metadata": {
        "colab": {
          "base_uri": "https://localhost:8080/"
        },
        "id": "KJaLqxUkTyON",
        "outputId": "29dbab58-6a25-478a-fa68-9db65a0b9cdc"
      },
      "source": [
        "trY.shape"
      ],
      "execution_count": 8,
      "outputs": [
        {
          "output_type": "execute_result",
          "data": {
            "text/plain": [
              "(73257, 10)"
            ]
          },
          "metadata": {
            "tags": []
          },
          "execution_count": 8
        }
      ]
    },
    {
      "cell_type": "markdown",
      "metadata": {
        "id": "Z1Fh8kYq52Ss"
      },
      "source": [
        "Implemented using the below CNN Architecture and parameters\n",
        "\n",
        "* The first hidden layer is a convolutional layer, with 64 output feature maps and kernel size of 5x5, stride 1 and activation as ReLU.\n",
        "* The second layer is a max pooling layer with pooling as 2x2 and with stride 2.\n",
        "* The third layer is a convulutional layer with 64 output feature maps and kernel size of 5x5 with stride 1 for convolution and activation as ReLU.\n",
        "*   The fourth layer is a max pooling layer with pooling as 2x2 and stride as 2.\n",
        "*   The 5th layer is connected to another convolutional layer, with 128 output feature maps. The convolution kernels are of 5x5 in size with stride 1 for convolution. The activation is ReLU.\n",
        "*   We apply flattening before the fully connected layer.\n",
        "* The next layer is a fully connected layer with 3072 nodes and ReLU activation function.\n",
        "*   It  is followed by another fully connected layer with 2048 nodes and ReLU activation function\n",
        "*   The last layer is a fully connected layer with 10 output nodes.\n",
        "\n",
        "\n",
        "\n",
        "\n",
        "\n",
        "\n"
      ]
    },
    {
      "cell_type": "code",
      "metadata": {
        "id": "xUiJZIXoR3mR"
      },
      "source": [
        "\n",
        "#create model\n",
        "model = Sequential()\n",
        "# model.add(keras.layers.Flatten())\n",
        "model.add(Conv2D(64, kernel_size =(5, 5), padding='same', strides =(1, 1),\n",
        "                 activation ='relu', input_shape=(32,32,3)))\n",
        "model.add(MaxPooling2D(pool_size =(2, 2), padding='same', strides =(2, 2)))\n",
        "model.add(Conv2D(64, (5, 5), strides = (1, 1), activation ='relu', padding='same', input_shape=(32,32,3)))\n",
        "model.add(MaxPooling2D(pool_size =(2, 2),strides = (2,2), padding='same' ))\n",
        "model.add(Conv2D(128, (5, 5), strides = (1, 1), activation ='relu', padding='same', input_shape=(32,32,3)))\n",
        "model.add(Flatten())\n",
        "model.add(Dense(3072, activation ='relu'))\n",
        "model.add(Dense(2048, activation ='relu'))\n",
        "model.add(Dense(10, activation ='softmax'))"
      ],
      "execution_count": 9,
      "outputs": []
    },
    {
      "cell_type": "markdown",
      "metadata": {
        "id": "oapMgV08-Tud"
      },
      "source": [
        "The model is trained with loss as categorical crossentropy and is trained with SGD optimizer with a learning rate of 0.01"
      ]
    },
    {
      "cell_type": "code",
      "metadata": {
        "id": "hYorlNVaR6mt"
      },
      "source": [
        "model.compile(loss = keras.losses.categorical_crossentropy,\n",
        "              optimizer = keras.optimizers.SGD(lr = 0.01),\n",
        "              metrics =['accuracy'])"
      ],
      "execution_count": 10,
      "outputs": []
    },
    {
      "cell_type": "code",
      "metadata": {
        "colab": {
          "base_uri": "https://localhost:8080/"
        },
        "id": "ceDU40CKR9oR",
        "outputId": "ff0f775f-7b88-4cb9-e9c4-5da3d31843a9"
      },
      "source": [
        "history = model.fit(trX, trY,\n",
        "          epochs = 20,\n",
        "          batch_size = 32,\n",
        "          validation_data =(tsX, tsY),\n",
        "          verbose=1\n",
        "          )"
      ],
      "execution_count": 11,
      "outputs": [
        {
          "output_type": "stream",
          "text": [
            "Epoch 1/20\n",
            "2290/2290 [==============================] - 54s 10ms/step - loss: 2.2016 - accuracy: 0.2055 - val_loss: 1.0629 - val_accuracy: 0.6632\n",
            "Epoch 2/20\n",
            "2290/2290 [==============================] - 21s 9ms/step - loss: 0.7617 - accuracy: 0.7731 - val_loss: 0.5718 - val_accuracy: 0.8288\n",
            "Epoch 3/20\n",
            "2290/2290 [==============================] - 21s 9ms/step - loss: 0.4592 - accuracy: 0.8658 - val_loss: 0.4872 - val_accuracy: 0.8574\n",
            "Epoch 4/20\n",
            "2290/2290 [==============================] - 21s 9ms/step - loss: 0.3554 - accuracy: 0.8958 - val_loss: 0.4324 - val_accuracy: 0.8725\n",
            "Epoch 5/20\n",
            "2290/2290 [==============================] - 21s 9ms/step - loss: 0.2959 - accuracy: 0.9127 - val_loss: 0.4162 - val_accuracy: 0.8820\n",
            "Epoch 6/20\n",
            "2290/2290 [==============================] - 21s 9ms/step - loss: 0.2555 - accuracy: 0.9272 - val_loss: 0.3589 - val_accuracy: 0.9001\n",
            "Epoch 7/20\n",
            "2290/2290 [==============================] - 21s 9ms/step - loss: 0.2122 - accuracy: 0.9407 - val_loss: 0.3884 - val_accuracy: 0.8916\n",
            "Epoch 8/20\n",
            "2290/2290 [==============================] - 21s 9ms/step - loss: 0.1759 - accuracy: 0.9497 - val_loss: 0.3793 - val_accuracy: 0.8927\n",
            "Epoch 9/20\n",
            "2290/2290 [==============================] - 21s 9ms/step - loss: 0.1440 - accuracy: 0.9609 - val_loss: 0.3470 - val_accuracy: 0.9075\n",
            "Epoch 10/20\n",
            "2290/2290 [==============================] - 22s 9ms/step - loss: 0.1136 - accuracy: 0.9683 - val_loss: 0.3687 - val_accuracy: 0.9084\n",
            "Epoch 11/20\n",
            "2290/2290 [==============================] - 21s 9ms/step - loss: 0.0860 - accuracy: 0.9769 - val_loss: 0.3843 - val_accuracy: 0.9020\n",
            "Epoch 12/20\n",
            "2290/2290 [==============================] - 21s 9ms/step - loss: 0.0670 - accuracy: 0.9817 - val_loss: 0.4604 - val_accuracy: 0.8912\n",
            "Epoch 13/20\n",
            "2290/2290 [==============================] - 21s 9ms/step - loss: 0.0504 - accuracy: 0.9867 - val_loss: 0.4502 - val_accuracy: 0.8987\n",
            "Epoch 14/20\n",
            "2290/2290 [==============================] - 22s 9ms/step - loss: 0.0356 - accuracy: 0.9906 - val_loss: 0.4325 - val_accuracy: 0.9100\n",
            "Epoch 15/20\n",
            "2290/2290 [==============================] - 22s 10ms/step - loss: 0.0242 - accuracy: 0.9943 - val_loss: 0.4487 - val_accuracy: 0.9107\n",
            "Epoch 16/20\n",
            "2290/2290 [==============================] - 22s 10ms/step - loss: 0.0182 - accuracy: 0.9961 - val_loss: 0.5115 - val_accuracy: 0.9110\n",
            "Epoch 17/20\n",
            "2290/2290 [==============================] - 22s 9ms/step - loss: 0.0118 - accuracy: 0.9977 - val_loss: 0.5287 - val_accuracy: 0.9052\n",
            "Epoch 18/20\n",
            "2290/2290 [==============================] - 22s 9ms/step - loss: 0.0105 - accuracy: 0.9982 - val_loss: 0.5501 - val_accuracy: 0.9121\n",
            "Epoch 19/20\n",
            "2290/2290 [==============================] - 22s 9ms/step - loss: 0.0030 - accuracy: 0.9998 - val_loss: 0.5888 - val_accuracy: 0.9120\n",
            "Epoch 20/20\n",
            "2290/2290 [==============================] - 22s 9ms/step - loss: 0.0018 - accuracy: 0.9999 - val_loss: 0.5890 - val_accuracy: 0.9130\n"
          ],
          "name": "stdout"
        }
      ]
    },
    {
      "cell_type": "markdown",
      "metadata": {
        "id": "b34hOqx4-jzG"
      },
      "source": [
        "Graphs for Epochs and Traning loss"
      ]
    },
    {
      "cell_type": "code",
      "metadata": {
        "colab": {
          "base_uri": "https://localhost:8080/",
          "height": 295
        },
        "id": "Ds9hoq2ikfyJ",
        "outputId": "1915000c-1331-41ef-d410-c20646571a85"
      },
      "source": [
        "\n",
        "\n",
        "train_loss = history.history['loss']\n",
        "val_loss = history.history['val_loss']\n",
        "plt.plot(train_loss, label='Training Loss')\n",
        "plt.legend()\n",
        "plt.title('Epochs vs. Training Loss')\n",
        "plt.xlabel('Epochs')\n",
        "plt.ylabel('Training Loss')\n",
        "plt.show()"
      ],
      "execution_count": 29,
      "outputs": [
        {
          "output_type": "display_data",
          "data": {
            "image/png": "[encoded data removed]",
            "text/plain": [
              "<Figure size 432x288 with 1 Axes>"
            ]
          },
          "metadata": {
            "tags": [],
            "needs_background": "light"
          }
        }
      ]
    },
    {
      "cell_type": "markdown",
      "metadata": {
        "id": "vZKTVDGY-rUp"
      },
      "source": [
        "Graph for Testing loss and Epochs"
      ]
    },
    {
      "cell_type": "code",
      "metadata": {
        "colab": {
          "base_uri": "https://localhost:8080/",
          "height": 295
        },
        "id": "hU6G3pPFlmT8",
        "outputId": "d560df26-431d-41ab-a6bb-72ec05972d05"
      },
      "source": [
        "plt.plot(val_loss, label='Testing Loss')\n",
        "plt.legend()\n",
        "plt.title('Epochs vs. Testing Loss')\n",
        "plt.xlabel('Epochs')\n",
        "plt.ylabel('Testing Loss')\n",
        "plt.show()"
      ],
      "execution_count": 14,
      "outputs": [
        {
          "output_type": "display_data",
          "data": {
            "image/png": "[encoded data removed]",
            "text/plain": [
              "<Figure size 432x288 with 1 Axes>"
            ]
          },
          "metadata": {
            "tags": [],
            "needs_background": "light"
          }
        }
      ]
    },
    {
      "cell_type": "code",
      "metadata": {
        "colab": {
          "base_uri": "https://localhost:8080/",
          "height": 336
        },
        "id": "DD5rQKA93Fik",
        "outputId": "9176b436-a705-4f5b-a7df-41b611dc7db7"
      },
      "source": [
        "train_acc = history.history['accuracy']\n",
        "val_acc = history.history['val_accuracy']\n",
        "plt.figure(figsize=(10, 5))\n",
        "\n",
        "plt.subplot(1, 2, 1)\n",
        "plt.plot(train_acc, label='Training Accuracy')\n",
        "plt.plot(val_acc, label='Testing Accuracy')\n",
        "plt.legend()\n",
        "plt.title('Epochs vs. Training and Testing Accuracy')\n",
        "    \n",
        "plt.subplot(1, 2, 2)\n",
        "plt.plot(train_loss, label='Training Loss')\n",
        "plt.plot(val_loss, label='Testing Loss')\n",
        "plt.legend()\n",
        "plt.title('Epochs vs. Training and Testing Loss')\n",
        "\n",
        "plt.show()"
      ],
      "execution_count": 23,
      "outputs": [
        {
          "output_type": "display_data",
          "data": {
            "image/png": "[encoded data removed]",
            "text/plain": [
              "<Figure size 720x360 with 2 Axes>"
            ]
          },
          "metadata": {
            "tags": [],
            "needs_background": "light"
          }
        }
      ]
    },
    {
      "cell_type": "markdown",
      "metadata": {
        "id": "jRRo9POG_gEH"
      },
      "source": [
        "Evaluating the model on Testing set"
      ]
    },
    {
      "cell_type": "code",
      "metadata": {
        "colab": {
          "base_uri": "https://localhost:8080/"
        },
        "id": "v1RAHCuI4PTv",
        "outputId": "c29968c3-cf3b-482f-dc1c-c7d0d2efa38d"
      },
      "source": [
        "test_loss, test_acc = model.evaluate(x=tsX, y=tsY, verbose=0)\n",
        "\n",
        "print('Test accuracy is: {:0.5f} \\nTest loss is: {:0.5f}'.format(test_acc, test_loss))"
      ],
      "execution_count": 28,
      "outputs": [
        {
          "output_type": "stream",
          "text": [
            "Test accuracy is: 0.91295 \n",
            "Test loss is: 0.58902\n"
          ],
          "name": "stdout"
        }
      ]
    }
  ]
}